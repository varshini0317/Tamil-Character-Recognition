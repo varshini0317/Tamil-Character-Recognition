{
  "nbformat": 4,
  "nbformat_minor": 0,
  "metadata": {
    "colab": {
      "name": "TamilCharacterRecognistion_Training.ipynb",
      "provenance": []
    },
    "kernelspec": {
      "name": "python3",
      "display_name": "Python 3"
    },
    "language_info": {
      "name": "python"
    },
    "accelerator": "GPU"
  },
  "cells": [
    {
      "cell_type": "code",
      "metadata": {
        "id": "fj63jDFPyaWB"
      },
      "source": [
        "import os\n",
        "import cv2\n",
        "import numpy as np\n",
        "import matplotlib.pyplot as plt\n",
        "from PIL import Image\n",
        "import re\n",
        "import csv\n",
        "import pickle\n",
        "import keras\n",
        "from keras.models import Sequential\n",
        "from keras.layers import Dense\n",
        "from tensorflow.keras.utils import to_categorical\n",
        "from keras.layers import Dropout\n",
        "from keras.layers import Flatten\n",
        "from keras.layers.convolutional import Conv2D\n",
        "from keras.layers.convolutional import MaxPooling2D\n",
        "from keras.utils import np_utils\n",
        "from sklearn.model_selection import train_test_split\n",
        "from keras.preprocessing.image import ImageDataGenerator"
      ],
      "execution_count": 1,
      "outputs": []
    },
    {
      "cell_type": "code",
      "metadata": {
        "id": "aKzUFtuP0_hm"
      },
      "source": [
        "w, h = 128, 128\n",
        "numCategory = 156\n",
        "filIm = open('/content/drive/My Drive/wkDir/image_ALL_128x128.obj', 'rb')\n",
        "images = pickle.load(filIm)\n",
        "filLab = open('/content/drive/My Drive/wkDir/label_ALL_128x128.obj', 'rb')\n",
        "labels = pickle.load(filLab)"
      ],
      "execution_count": 2,
      "outputs": []
    },
    {
      "cell_type": "code",
      "metadata": {
        "id": "1Gifgsbw1FNP"
      },
      "source": [
        "def plotIm(img_):\n",
        "  plt.imshow(img_, cmap='gray')\n",
        "  plt.show()"
      ],
      "execution_count": 3,
      "outputs": []
    },
    {
      "cell_type": "code",
      "metadata": {
        "colab": {
          "base_uri": "https://localhost:8080/"
        },
        "id": "REwC1jDk1MsQ",
        "outputId": "b5c644f7-e0d6-4913-e6ad-6e58393ca21e"
      },
      "source": [
        "tamilCharacterCode = []\n",
        "w,h=128,128\n",
        "with open('/content/drive/My Drive/wkDir/unicodeTamil.csv', newline='') as f:\n",
        "  reader = csv.reader(f)\n",
        "  data = list(reader)\n",
        "  for i in data:\n",
        "    go = i[1].split(' ')\n",
        "    charL = \"\"\n",
        "    for gg in go:\n",
        "      charL = charL + \"\\\\u\"+str(gg)\n",
        "    tamilCharacterCode.append(charL.encode('utf-8').decode('unicode-escape'))\n",
        "print(tamilCharacterCode)"
      ],
      "execution_count": 4,
      "outputs": [
        {
          "output_type": "stream",
          "text": [
            "['அ', 'ஆ', 'இ', 'ஈ', 'உ', 'ஊ', 'எ', 'ஏ', 'ஐ', 'ஒ', 'ஓ', 'ஃ', 'க', 'ங', 'ச', 'ஞ', 'ட', 'ண', 'த', 'ந', 'ப', 'ம', 'ய', 'ர', 'ல', 'வ', 'ழ', 'ள', 'ற', 'ன', 'ஸ', 'ஷ', 'ஜ', 'ஹ', 'க்ஷ', 'கி', 'ஙி', 'சி', 'ஞி', 'டி', 'ணி', 'தி', 'நி', 'பி', 'மி', 'யி', 'ரி', 'லி', 'வி', 'ழி', 'ளி', 'றி', 'னி', 'ஸி', 'ஷி', 'ஜி', 'ஹி', 'க்ஷி', 'கீ', 'ஙீ', 'சீ', 'ஞீ', 'டீ', 'ணீ', 'தீ', 'நீ', 'பீ', 'மீ', 'யீ', 'ரீ', 'லீ', 'வீ', 'ழீ', 'ளீ', 'றீ', 'னீ', 'ஸீ', 'ஷீ', 'ஜீ', 'ஹீ', 'க்ஷீ', 'கு', 'ஙு', 'சு', 'ஞு', 'டு', 'ணு', 'து', 'நு', 'பு', 'மு', 'யு', 'ரு', 'லு', 'வு', 'ழு', 'ளு', 'று', 'னு', 'கூ', 'ஙூ', 'சூ', 'ஞூ', 'டூ', 'ணூ', 'தூ', 'நூ', 'பூ', 'மூ', 'யூ', 'ரூ', 'லூ', 'வூ', 'ழூ', 'ளூ', 'றூ', 'னூ', 'ா', 'ெ', 'ே', 'ை', 'ஸ்ரீ', 'ஸு', 'ஷு', 'ஜு', 'ஹு', 'க்ஷு', 'ஸூ', 'ஷூ', 'ஜ0BC2', 'ஹூ', 'க்ஷூ', 'க்', 'ங்', 'ச்', 'ஞ்', 'ட்', 'ண்', 'த்', 'ந்', 'ப்', 'ம்', 'ய்', 'ர்', 'ல்', 'வ்', 'ழ்', 'ள்', 'ற்', 'ன்', 'ஸ்', 'ஷ்', 'ஜ்', 'ஹ்', 'க்ஷ்', 'ஔ']\n"
          ],
          "name": "stdout"
        }
      ]
    },
    {
      "cell_type": "code",
      "metadata": {
        "colab": {
          "base_uri": "https://localhost:8080/"
        },
        "id": "h1c4ssvZ1PSv",
        "outputId": "af536c44-36c9-4567-8692-cb4bf8939417"
      },
      "source": [
        "images=np.array(images)\n",
        "labels=np.array(labels,dtype=np.uint8)\n",
        "y_labels=to_categorical(labels)\n",
        "X_train, X_test, y_train, y_test = train_test_split(images, y_labels, test_size=0.33, random_state=42)\n",
        "keras.initializers.lecun_uniform(seed=None)\n",
        "print(X_train.shape, y_train.shape)"
      ],
      "execution_count": 5,
      "outputs": [
        {
          "output_type": "stream",
          "text": [
            "(55549, 128, 128, 1) (55549, 156)\n"
          ],
          "name": "stdout"
        }
      ]
    },
    {
      "cell_type": "code",
      "metadata": {
        "colab": {
          "base_uri": "https://localhost:8080/",
          "height": 285
        },
        "id": "seeeRfiz1U7_",
        "outputId": "63767e3d-3ac9-49de-89ab-eeeb6a4f5463"
      },
      "source": [
        "ridx = np.random.randint(X_train.shape[0])\n",
        "print(tamilCharacterCode[np.argmax(y_train[ridx])])\n",
        "plotIm(X_train[ridx].reshape(w,h))"
      ],
      "execution_count": 6,
      "outputs": [
        {
          "output_type": "stream",
          "text": [
            "சீ\n"
          ],
          "name": "stdout"
        },
        {
          "output_type": "display_data",
          "data": {
            "image/png": "[encoded data removed]",
            "text/plain": [
              "<Figure size 432x288 with 1 Axes>"
            ]
          },
          "metadata": {
            "tags": [],
            "needs_background": "light"
          }
        }
      ]
    },
    {
      "cell_type": "code",
      "metadata": {
        "colab": {
          "base_uri": "https://localhost:8080/"
        },
        "id": "EKbWiXFv1hzR",
        "outputId": "6aa9c435-2659-47c6-9a66-3f241f82f32c"
      },
      "source": [
        "model = Sequential()\n",
        "model.add(Conv2D(64, (5, 5), input_shape=(w,h,1), activation='relu'))\n",
        "model.add(MaxPooling2D(pool_size=(2, 2)))\n",
        "model.add(Dropout(0.2))\n",
        "model.add(Conv2D(32, (5, 5), activation='relu'))\n",
        "model.add(MaxPooling2D(pool_size=(2, 2)))\n",
        "model.add(Conv2D(32, (5, 5), activation='relu'))\n",
        "model.add(MaxPooling2D(pool_size=(2, 2)))\n",
        "model.add(Dropout(0.2))\n",
        "model.add(Conv2D(32, (5, 5), activation='relu'))\n",
        "model.add(MaxPooling2D(pool_size=(2, 2)))\n",
        "model.add(Dropout(0.2))\n",
        "model.add(Flatten())\n",
        "model.add(Dense(256, activation='relu'))\n",
        "model.add(Dense(numCategory, activation='softmax'))\n",
        "model.summary()\n",
        "model.compile(loss='categorical_crossentropy', optimizer='adam', metrics=['accuracy'])"
      ],
      "execution_count": 7,
      "outputs": [
        {
          "output_type": "stream",
          "text": [
            "Model: \"sequential\"\n",
            "_________________________________________________________________\n",
            "Layer (type)                 Output Shape              Param #   \n",
            "=================================================================\n",
            "conv2d (Conv2D)              (None, 124, 124, 64)      1664      \n",
            "_________________________________________________________________\n",
            "max_pooling2d (MaxPooling2D) (None, 62, 62, 64)        0         \n",
            "_________________________________________________________________\n",
            "dropout (Dropout)            (None, 62, 62, 64)        0         \n",
            "_________________________________________________________________\n",
            "conv2d_1 (Conv2D)            (None, 58, 58, 32)        51232     \n",
            "_________________________________________________________________\n",
            "max_pooling2d_1 (MaxPooling2 (None, 29, 29, 32)        0         \n",
            "_________________________________________________________________\n",
            "conv2d_2 (Conv2D)            (None, 25, 25, 32)        25632     \n",
            "_________________________________________________________________\n",
            "max_pooling2d_2 (MaxPooling2 (None, 12, 12, 32)        0         \n",
            "_________________________________________________________________\n",
            "dropout_1 (Dropout)          (None, 12, 12, 32)        0         \n",
            "_________________________________________________________________\n",
            "conv2d_3 (Conv2D)            (None, 8, 8, 32)          25632     \n",
            "_________________________________________________________________\n",
            "max_pooling2d_3 (MaxPooling2 (None, 4, 4, 32)          0         \n",
            "_________________________________________________________________\n",
            "dropout_2 (Dropout)          (None, 4, 4, 32)          0         \n",
            "_________________________________________________________________\n",
            "flatten (Flatten)            (None, 512)               0         \n",
            "_________________________________________________________________\n",
            "dense (Dense)                (None, 256)               131328    \n",
            "_________________________________________________________________\n",
            "dense_1 (Dense)              (None, 156)               40092     \n",
            "=================================================================\n",
            "Total params: 275,580\n",
            "Trainable params: 275,580\n",
            "Non-trainable params: 0\n",
            "_________________________________________________________________\n"
          ],
          "name": "stdout"
        }
      ]
    },
    {
      "cell_type": "code",
      "metadata": {
        "colab": {
          "base_uri": "https://localhost:8080/"
        },
        "id": "2mlToP241mEx",
        "outputId": "f30b7d02-664c-4898-b3f2-5c35fc9061f5"
      },
      "source": [
        "model.fit(X_train, y_train, validation_data=(X_test, y_test), epochs=20, batch_size=100, verbose=1)\n",
        "TrainAccuracy = model.evaluate(X_train, y_train, verbose=1)\n",
        "TestAccuracy = model.evaluate(X_test, y_test, verbose=1)"
      ],
      "execution_count": 8,
      "outputs": [
        {
          "output_type": "stream",
          "text": [
            "Epoch 1/20\n",
            "556/556 [==============================] - 90s 78ms/step - loss: 3.6002 - accuracy: 0.2181 - val_loss: 0.8129 - val_accuracy: 0.7557\n",
            "Epoch 2/20\n",
            "556/556 [==============================] - 42s 75ms/step - loss: 0.8371 - accuracy: 0.7439 - val_loss: 0.5194 - val_accuracy: 0.8397\n",
            "Epoch 3/20\n",
            "556/556 [==============================] - 42s 75ms/step - loss: 0.5595 - accuracy: 0.8212 - val_loss: 0.4010 - val_accuracy: 0.8745\n",
            "Epoch 4/20\n",
            "556/556 [==============================] - 42s 75ms/step - loss: 0.4270 - accuracy: 0.8597 - val_loss: 0.3542 - val_accuracy: 0.8879\n",
            "Epoch 5/20\n",
            "556/556 [==============================] - 42s 75ms/step - loss: 0.3700 - accuracy: 0.8781 - val_loss: 0.3524 - val_accuracy: 0.8862\n",
            "Epoch 6/20\n",
            "556/556 [==============================] - 46s 83ms/step - loss: 0.3295 - accuracy: 0.8888 - val_loss: 0.3114 - val_accuracy: 0.9050\n",
            "Epoch 7/20\n",
            "556/556 [==============================] - 46s 83ms/step - loss: 0.2922 - accuracy: 0.8996 - val_loss: 0.3035 - val_accuracy: 0.9068\n",
            "Epoch 8/20\n",
            "556/556 [==============================] - 42s 75ms/step - loss: 0.2628 - accuracy: 0.9105 - val_loss: 0.3067 - val_accuracy: 0.9013\n",
            "Epoch 9/20\n",
            "556/556 [==============================] - 42s 75ms/step - loss: 0.2397 - accuracy: 0.9190 - val_loss: 0.2822 - val_accuracy: 0.9113\n",
            "Epoch 10/20\n",
            "556/556 [==============================] - 42s 75ms/step - loss: 0.2268 - accuracy: 0.9217 - val_loss: 0.2653 - val_accuracy: 0.9176\n",
            "Epoch 11/20\n",
            "556/556 [==============================] - 42s 75ms/step - loss: 0.2115 - accuracy: 0.9253 - val_loss: 0.2644 - val_accuracy: 0.9188\n",
            "Epoch 12/20\n",
            "556/556 [==============================] - 41s 75ms/step - loss: 0.1968 - accuracy: 0.9317 - val_loss: 0.2740 - val_accuracy: 0.9131\n",
            "Epoch 13/20\n",
            "556/556 [==============================] - 46s 83ms/step - loss: 0.1971 - accuracy: 0.9295 - val_loss: 0.2574 - val_accuracy: 0.9225\n",
            "Epoch 14/20\n",
            "556/556 [==============================] - 46s 83ms/step - loss: 0.1807 - accuracy: 0.9369 - val_loss: 0.2624 - val_accuracy: 0.9218\n",
            "Epoch 15/20\n",
            "556/556 [==============================] - 42s 75ms/step - loss: 0.1713 - accuracy: 0.9400 - val_loss: 0.2707 - val_accuracy: 0.9178\n",
            "Epoch 16/20\n",
            "556/556 [==============================] - 42s 75ms/step - loss: 0.1681 - accuracy: 0.9398 - val_loss: 0.2859 - val_accuracy: 0.9165\n",
            "Epoch 17/20\n",
            "556/556 [==============================] - 41s 75ms/step - loss: 0.1677 - accuracy: 0.9398 - val_loss: 0.2646 - val_accuracy: 0.9227\n",
            "Epoch 18/20\n",
            "556/556 [==============================] - 42s 75ms/step - loss: 0.1549 - accuracy: 0.9444 - val_loss: 0.2522 - val_accuracy: 0.9243\n",
            "Epoch 19/20\n",
            "556/556 [==============================] - 42s 75ms/step - loss: 0.1456 - accuracy: 0.9486 - val_loss: 0.2587 - val_accuracy: 0.9239\n",
            "Epoch 20/20\n",
            "556/556 [==============================] - 41s 75ms/step - loss: 0.1487 - accuracy: 0.9477 - val_loss: 0.2729 - val_accuracy: 0.9229\n",
            "1736/1736 [==============================] - 16s 9ms/step - loss: 0.0501 - accuracy: 0.9830\n",
            "856/856 [==============================] - 8s 9ms/step - loss: 0.2729 - accuracy: 0.9229\n"
          ],
          "name": "stdout"
        }
      ]
    },
    {
      "cell_type": "code",
      "metadata": {
        "colab": {
          "base_uri": "https://localhost:8080/"
        },
        "id": "l0A8ctHX2kej",
        "outputId": "dd4a60db-4c5d-4ba4-b4f4-fd2a53d88e72"
      },
      "source": [
        "model.save(\"/content/drive/My Drive/wkDir/tamilALLEzhuthukalKeras_Model.h5\")\n",
        "print(\"Saved model to disk\")"
      ],
      "execution_count": 9,
      "outputs": [
        {
          "output_type": "stream",
          "text": [
            "Saved model to disk\n"
          ],
          "name": "stdout"
        }
      ]
    },
    {
      "cell_type": "code",
      "metadata": {
        "id": "d-60qmdh6Ifn"
      },
      "source": [
        ""
      ],
      "execution_count": null,
      "outputs": []
    }
  ]
}